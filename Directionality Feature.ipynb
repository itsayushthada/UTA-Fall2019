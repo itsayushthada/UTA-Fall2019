{
 "cells": [
  {
   "cell_type": "markdown",
   "metadata": {},
   "source": [
    "# Directionality Feature"
   ]
  },
  {
   "cell_type": "code",
   "execution_count": 1,
   "metadata": {},
   "outputs": [],
   "source": [
    "import numpy as np\n",
    "import matplotlib.pyplot as plt"
   ]
  },
  {
   "cell_type": "markdown",
   "metadata": {},
   "source": [
    "Assume the given image be:"
   ]
  },
  {
   "cell_type": "code",
   "execution_count": 2,
   "metadata": {},
   "outputs": [
    {
     "data": {
      "text/plain": [
       "array([[102, 179,  92,  14, 106,  71, 188],\n",
       "       [ 20, 102, 121, 210, 214,  74, 202],\n",
       "       [ 87, 116,  99, 103, 151, 130, 149],\n",
       "       [ 52,   1,  87, 235, 157,  37, 129],\n",
       "       [191, 187,  20, 160, 203,  57,  21],\n",
       "       [252, 235,  88,  48, 218,  58, 254],\n",
       "       [169, 255, 219, 187, 207,  14, 189]])"
      ]
     },
     "execution_count": 2,
     "metadata": {},
     "output_type": "execute_result"
    }
   ],
   "source": [
    "np.random.seed(42)\n",
    "img = np.random.randint(0, 256, (7,7))\n",
    "img"
   ]
  },
  {
   "cell_type": "markdown",
   "metadata": {},
   "source": [
    "### Step I: Quantization\n",
    "\n",
    "Let's quantization level be 10. It means all the values of iamge which is between [0,255] is converted to range [0, 9]. After that make sure you round off numbers to the nearest natural number. "
   ]
  },
  {
   "cell_type": "markdown",
   "metadata": {},
   "source": [
    "<center><font size=5>$Q(img, q\\_level): [0, 255] [0, q\\_level]$</font></center> \n",
    "<br>\n",
    "<center><font size=5>$Q(img, q\\_level) = \\frac{img * (q\\_level)}{255-0}$</font></center>"
   ]
  },
  {
   "cell_type": "code",
   "execution_count": 3,
   "metadata": {},
   "outputs": [
    {
     "data": {
      "text/plain": [
       "array([[ 4,  7,  3,  0,  4,  2,  7],\n",
       "       [ 0,  4,  4,  8,  8,  2,  7],\n",
       "       [ 3,  4,  3,  4,  5,  5,  5],\n",
       "       [ 2,  0,  3,  9,  6,  1,  5],\n",
       "       [ 7,  7,  0,  6,  7,  2,  0],\n",
       "       [ 9,  9,  3,  1,  8,  2,  9],\n",
       "       [ 6, 10,  8,  7,  8,  0,  7]], dtype=int16)"
      ]
     },
     "execution_count": 3,
     "metadata": {},
     "output_type": "execute_result"
    }
   ],
   "source": [
    "q_img  = (img * 10 /255).astype(np.int16) \n",
    "q_img"
   ]
  },
  {
   "cell_type": "markdown",
   "metadata": {},
   "source": [
    "### Step II: Padding\n",
    "\n",
    "We have to pad the image with either zeros of the border pixels. This is important because the next step will reduce the length and width of image by 2 pixls units for each dimension."
   ]
  },
  {
   "cell_type": "code",
   "execution_count": 4,
   "metadata": {},
   "outputs": [
    {
     "data": {
      "text/plain": [
       "array([[ 4,  4,  7,  3,  0,  4,  2,  7,  7],\n",
       "       [ 4,  4,  7,  3,  0,  4,  2,  7,  7],\n",
       "       [ 0,  0,  4,  4,  8,  8,  2,  7,  7],\n",
       "       [ 3,  3,  4,  3,  4,  5,  5,  5,  5],\n",
       "       [ 2,  2,  0,  3,  9,  6,  1,  5,  5],\n",
       "       [ 7,  7,  7,  0,  6,  7,  2,  0,  0],\n",
       "       [ 9,  9,  9,  3,  1,  8,  2,  9,  9],\n",
       "       [ 6,  6, 10,  8,  7,  8,  0,  7,  7],\n",
       "       [ 6,  6, 10,  8,  7,  8,  0,  7,  7]], dtype=int16)"
      ]
     },
     "execution_count": 4,
     "metadata": {},
     "output_type": "execute_result"
    }
   ],
   "source": [
    "p_img = np.ones((9, 9)).astype(np.int16)\n",
    "p_img[1:-1, 1:-1] = q_img\n",
    "\n",
    "p_img[0, :] = p_img[1, :]\n",
    "p_img[-1, :] = p_img[-2, :]\n",
    "\n",
    "p_img[:, 0] = p_img[:, 1]\n",
    "p_img[:, -1] = p_img[:, -2]\n",
    "\n",
    "p_img"
   ]
  },
  {
   "cell_type": "markdown",
   "metadata": {},
   "source": [
    "### Step III: Gradient Calculation\n",
    "\n",
    "To calcualte the respective gradients we have to perform the simple convolution operation (this is different from what you have done is signal processing). Perform a point wise multiplication between the kernel matrix and the part of quantised image and then repalce the value of central pixel with the sum of all the products that we ahve calculated."
   ]
  },
  {
   "cell_type": "code",
   "execution_count": 5,
   "metadata": {},
   "outputs": [
    {
     "data": {
      "text/plain": [
       "array([[-1,  0,  1],\n",
       "       [-1,  0,  1],\n",
       "       [-1,  0,  1]])"
      ]
     },
     "execution_count": 5,
     "metadata": {},
     "output_type": "execute_result"
    }
   ],
   "source": [
    "kernel_x = np.array([[-1, 0, 1], [-1, 0, 1], [-1, 0, 1]])\n",
    "kernel_x"
   ]
  },
  {
   "cell_type": "code",
   "execution_count": 6,
   "metadata": {},
   "outputs": [
    {
     "data": {
      "text/plain": [
       "array([[-1, -1, -1],\n",
       "       [ 0,  0,  0],\n",
       "       [ 1,  1,  1]])"
      ]
     },
     "execution_count": 6,
     "metadata": {},
     "output_type": "execute_result"
    }
   ],
   "source": [
    "kernel_y = np.array([[-1, -1, -1], [0, 0, 0], [1, 1, 1]])\n",
    "kernel_y"
   ]
  },
  {
   "cell_type": "markdown",
   "metadata": {},
   "source": [
    "Gradient can be calcualted in this way"
   ]
  },
  {
   "cell_type": "markdown",
   "metadata": {},
   "source": [
    "<img src = \"img1.jpg\" style=\"width:500px;height:600px;\"></img>"
   ]
  },
  {
   "cell_type": "markdown",
   "metadata": {},
   "source": [
    "In the below step I'm justing doing the operation demonstrated above over the whole iamge. This whole operation is sliding the kernel over the image and performing the operation demonstrated above.<br><br>\n",
    "As we are looking ofr pattern in the x diection and y direction we hav to do this operation with $\\Delta X$ and $\\Delta Y$ kernels."
   ]
  },
  {
   "cell_type": "code",
   "execution_count": 7,
   "metadata": {
    "scrolled": false
   },
   "outputs": [],
   "source": [
    "del_x = np.ones((7, 7)).astype(np.int16) # length of gradient will be 2 less than the length of original image.\n",
    "del_y = np.ones((7, 7)).astype(np.int16) # Width of gradient will be 2 less than the width of original image.\n",
    "\n",
    "for i in range(1,len(p_img)-1):\n",
    "    for j in range(1,len(p_img)-1):\n",
    "        del_x[i-1, j-1] = np.sum(p_img[i-1:i+2,j-1:j+2] * kernel_x).astype(np.int16)\n",
    "        del_y[i-1, j-1] = np.sum(p_img[i-1:i+2,j-1:j+2] * kernel_y).astype(np.int16)\n",
    "        "
   ]
  },
  {
   "cell_type": "code",
   "execution_count": 8,
   "metadata": {},
   "outputs": [
    {
     "name": "stdout",
     "output_type": "stream",
     "text": [
      "[[ 10   2 -10   6  -2   5  15]\n",
      " [  8   3  -3   7  -3   2  10]\n",
      " [  3   5  13   9 -13  -2   9]\n",
      " [ -1  -6   8  12 -11  -8   2]\n",
      " [ -2 -12   0  15 -11  -7   9]\n",
      " [  4 -11 -12  12 -10  -7  12]\n",
      " [  8  -2 -14   5 -13  -1  21]]\n"
     ]
    }
   ],
   "source": [
    "# del_x = Conv(padded_image, kernel_x)\n",
    "\n",
    "print(del_x)"
   ]
  },
  {
   "cell_type": "code",
   "execution_count": 9,
   "metadata": {},
   "outputs": [
    {
     "name": "stdout",
     "output_type": "stream",
     "text": [
      "[[-11  -6   6  13  12   4   0]\n",
      " [ -5  -4   1   5   8   2  -1]\n",
      " [  0  -3  -4  -2  -2  -5  -5]\n",
      " [ 11   4   2   1   1  -6 -13]\n",
      " [ 23  16   1  -6  -5   7   9]\n",
      " [  1  10  12  10   0   6  12]\n",
      " [ -5   3  12  11   4  -4  -6]]\n"
     ]
    }
   ],
   "source": [
    "# del_y = Conv(padded_image, kernel_x)\n",
    "\n",
    "print(del_y)"
   ]
  },
  {
   "cell_type": "markdown",
   "metadata": {},
   "source": [
    "### Step IV: Edge Strength\n",
    "\n",
    "It is the mean of the absolute value del_x and del_y cacluated in the above steps. I'm using $H$ to represent the edge strength. It basically represents the strength of the edge which connects the adjacent pairs of pixels. \n",
    "Example: If you draw an image by hand using pencil, the edge streagth refers to the thickness of the stroke that you use for a particualr position in image."
   ]
  },
  {
   "cell_type": "markdown",
   "metadata": {},
   "source": [
    "<center><font size=5>$H = \\frac{\\Delta x + \\Delta y}{2}$</font></center>"
   ]
  },
  {
   "cell_type": "code",
   "execution_count": 10,
   "metadata": {},
   "outputs": [
    {
     "data": {
      "text/plain": [
       "array([[10.5,  4. ,  8. ,  9.5,  7. ,  4.5,  7.5],\n",
       "       [ 6.5,  3.5,  2. ,  6. ,  5.5,  2. ,  5.5],\n",
       "       [ 1.5,  4. ,  8.5,  5.5,  7.5,  3.5,  7. ],\n",
       "       [ 6. ,  5. ,  5. ,  6.5,  6. ,  7. ,  7.5],\n",
       "       [12.5, 14. ,  0.5, 10.5,  8. ,  7. ,  9. ],\n",
       "       [ 2.5, 10.5, 12. , 11. ,  5. ,  6.5, 12. ],\n",
       "       [ 6.5,  2.5, 13. ,  8. ,  8.5,  2.5, 13.5]])"
      ]
     },
     "execution_count": 10,
     "metadata": {},
     "output_type": "execute_result"
    }
   ],
   "source": [
    "H = (np.abs(del_x) + np.abs(del_y))/2\n",
    "H"
   ]
  },
  {
   "cell_type": "markdown",
   "metadata": {},
   "source": [
    "### Step V: Directionality Angle\n",
    "\n",
    "The next step is to cacualte the angle between the del_x and del_y. del_x corrosponds to horizintal edges in image and del_y corrospnds to vertical edges in image. to get the ange we hae to divide del_x by del_y and calcualte the inverse tangent of result. We will get the vaue in range [-$\\pi$/2,$\\pi$/2]. To convert the range into [0, $\\pi$] we add $\\pi$/2 to all the indices of the received array. I'm denoting this result as $\\alpha$."
   ]
  },
  {
   "cell_type": "markdown",
   "metadata": {},
   "source": [
    "<center><font size=5>$\\alpha = \\frac{\\pi}{2} + tan^{-1}\\frac{\\Delta x}{\\Delta y}$</font></center>"
   ]
  },
  {
   "cell_type": "markdown",
   "metadata": {},
   "source": [
    "The above operation is a point wise operation."
   ]
  },
  {
   "cell_type": "code",
   "execution_count": 11,
   "metadata": {},
   "outputs": [
    {
     "name": "stderr",
     "output_type": "stream",
     "text": [
      "c:\\users\\lenovo\\appdata\\local\\programs\\python\\python36\\lib\\site-packages\\ipykernel_launcher.py:1: RuntimeWarning: divide by zero encountered in true_divide\n",
      "  \"\"\"Entry point for launching an IPython kernel.\n"
     ]
    }
   ],
   "source": [
    "alpha = np.arctan(del_x/del_y) + (np.pi/2)"
   ]
  },
  {
   "cell_type": "markdown",
   "metadata": {},
   "source": [
    "The result that we have received ie. $\\alpha$ is in $radian$. Let's convert it in degress and check the ranges of the angles that we are getting. This is just for demonstration, you're not supposed to do this during written test."
   ]
  },
  {
   "cell_type": "code",
   "execution_count": 12,
   "metadata": {},
   "outputs": [
    {
     "data": {
      "text/plain": [
       "array([[ 47.73,  71.57,  30.96, 114.78,  80.54, 141.34, 180.  ],\n",
       "       [ 32.01,  53.13,  18.43, 144.46,  69.44, 135.  ,   5.71],\n",
       "       [180.  ,  30.96,  17.1 ,  12.53, 171.25, 111.8 ,  29.05],\n",
       "       [ 84.81,  33.69, 165.96, 175.24,   5.19, 143.13,  81.25],\n",
       "       [ 85.03,  53.13,  90.  ,  21.8 , 155.56,  45.  , 135.  ],\n",
       "       [165.96,  42.27,  45.  , 140.19,   0.  ,  40.6 , 135.  ],\n",
       "       [ 32.01,  56.31,  40.6 , 114.44,  17.1 , 104.04,  15.95]])"
      ]
     },
     "execution_count": 12,
     "metadata": {},
     "output_type": "execute_result"
    }
   ],
   "source": [
    "alpha_degree = alpha * (180/np.pi)\n",
    "np.around(alpha_degree, 2)"
   ]
  },
  {
   "cell_type": "markdown",
   "metadata": {},
   "source": [
    "We can observe that all the values are between the range 0 and 180."
   ]
  },
  {
   "cell_type": "markdown",
   "metadata": {},
   "source": [
    "# Step VI: Histogram\n",
    "\n",
    "In this step we have to plot histogram for $H$ and $\\alpha$. The histogram for $\\alpha$ is relatively uniform for images without strong orientation and exhibits peaks for highly directional images. The histogram for $H$ represents the distribution of the different edge weights. "
   ]
  },
  {
   "cell_type": "markdown",
   "metadata": {},
   "source": [
    "We can quantise the values of $\\alpha$ and $H$ matrixes before plotting histograms."
   ]
  },
  {
   "cell_type": "code",
   "execution_count": 13,
   "metadata": {},
   "outputs": [
    {
     "data": {
      "image/png": "[encoded data removed]",
      "text/plain": [
       "<Figure size 432x288 with 1 Axes>"
      ]
     },
     "metadata": {},
     "output_type": "display_data"
    }
   ],
   "source": [
    "plt.hist(alpha.reshape(-1), bins=20)\n",
    "plt.title(\"Edge Orientation\")\n",
    "plt.show()"
   ]
  },
  {
   "cell_type": "code",
   "execution_count": 14,
   "metadata": {},
   "outputs": [
    {
     "data": {
      "image/png": "[encoded data removed]",
      "text/plain": [
       "<Figure size 432x288 with 1 Axes>"
      ]
     },
     "metadata": {},
     "output_type": "display_data"
    }
   ],
   "source": [
    "plt.hist(H.reshape(-1), bins=20)\n",
    "plt.title(\"Edge Strength\")\n",
    "plt.show()"
   ]
  },
  {
   "cell_type": "markdown",
   "metadata": {},
   "source": [
    "# Observations"
   ]
  },
  {
   "cell_type": "code",
   "execution_count": 15,
   "metadata": {},
   "outputs": [
    {
     "data": {
      "text/plain": [
       "Text(0.5, 1.0, 'Edge Strength Matrix')"
      ]
     },
     "execution_count": 15,
     "metadata": {},
     "output_type": "execute_result"
    },
    {
     "data": {
      "image/png": "[encoded data removed]",
      "text/plain": [
       "<Figure size 864x576 with 6 Axes>"
      ]
     },
     "metadata": {},
     "output_type": "display_data"
    }
   ],
   "source": [
    "plt.figure(figsize=(12, 8))\n",
    "\n",
    "plt.subplot(2, 3, 1)\n",
    "plt.imshow(img, cmap=\"gray\")\n",
    "plt.title(\"Original Image\")\n",
    "\n",
    "plt.subplot(2, 3, 2)\n",
    "plt.imshow(q_img, cmap=\"gray\")\n",
    "plt.title(\"Quantized Image\")\n",
    "\n",
    "plt.subplot(2, 3, 3)\n",
    "plt.imshow(p_img, cmap=\"gray\")\n",
    "plt.title(\"Padded Image\")\n",
    "\n",
    "plt.subplot(2, 3, 4)\n",
    "plt.imshow(del_x, cmap=\"gray\")\n",
    "plt.title(\"Del X\")\n",
    "\n",
    "plt.subplot(2, 3, 5)\n",
    "plt.imshow(del_y, cmap=\"gray\")\n",
    "plt.title(\"Del Y\")\n",
    "\n",
    "plt.subplot(2, 3, 6)\n",
    "plt.imshow(H, cmap=\"gray\")\n",
    "plt.title(\"Edge Strength Matrix\")"
   ]
  }
 ],
 "metadata": {
  "@webio": {
   "lastCommId": null,
   "lastKernelId": null
  },
  "kernelspec": {
   "display_name": "Python 3",
   "language": "python",
   "name": "python3"
  },
  "language_info": {
   "codemirror_mode": {
    "name": "ipython",
    "version": 3
   },
   "file_extension": ".py",
   "mimetype": "text/x-python",
   "name": "python",
   "nbconvert_exporter": "python",
   "pygments_lexer": "ipython3",
   "version": "3.6.6"
  }
 },
 "nbformat": 4,
 "nbformat_minor": 2
}
