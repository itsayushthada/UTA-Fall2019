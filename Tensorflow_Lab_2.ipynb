{
 "cells": [
  {
   "cell_type": "code",
   "execution_count": 2,
   "metadata": {
    "colab": {
     "base_uri": "https://localhost:8080/",
     "height": 34
    },
    "colab_type": "code",
    "id": "Nf6uEiPIUYft",
    "outputId": "70ac369c-d03e-4234-9164-4c294a0559f3"
   },
   "outputs": [],
   "source": [
    "from keras.datasets import mnist\n",
    "import tensorflow as tf\n",
    "import numpy as np\n",
    "import matplotlib.pyplot as plt"
   ]
  },
  {
   "cell_type": "markdown",
   "metadata": {},
   "source": [
    "# Load Dataset"
   ]
  },
  {
   "cell_type": "code",
   "execution_count": 7,
   "metadata": {
    "colab": {},
    "colab_type": "code",
    "id": "Lb5lnLZVUhtH"
   },
   "outputs": [],
   "source": [
    "def load_dataset(flatten=False):\n",
    "    (X_train, y_train), (X_test, y_test) = mnist.load_data()\n",
    "\n",
    "    # normalize x\n",
    "    X_train = X_train.astype(float) / 255.\n",
    "    X_test = X_test.astype(float) / 255.\n",
    "\n",
    "    # Last 10000 training examples for validation\n",
    "    X_train, X_val = X_train[:-10000], X_train[-10000:]\n",
    "    y_train, y_val = y_train[:-10000], y_train[-10000:]\n",
    "\n",
    "    if flatten:\n",
    "        X_train = X_train.reshape([X_train.shape[0], -1])\n",
    "        X_val = X_val.reshape([X_val.shape[0], -1])\n",
    "        X_test = X_test.reshape([X_test.shape[0], -1])\n",
    "\n",
    "    return X_train, y_train, X_val, y_val, X_test, y_test"
   ]
  },
  {
   "cell_type": "code",
   "execution_count": 8,
   "metadata": {
    "colab": {
     "base_uri": "https://localhost:8080/",
     "height": 67
    },
    "colab_type": "code",
    "id": "CUF8sxP-Ube1",
    "outputId": "40b18a28-419b-4fad-bf5d-654ed2b89cfe"
   },
   "outputs": [
    {
     "name": "stdout",
     "output_type": "stream",
     "text": [
      "(50000, 28, 28) (50000,)\n"
     ]
    }
   ],
   "source": [
    "X_train, y_train, X_val, y_val, X_test, y_test = load_dataset()\n",
    "print(X_train.shape, y_train.shape)"
   ]
  },
  {
   "cell_type": "code",
   "execution_count": 9,
   "metadata": {
    "colab": {
     "base_uri": "https://localhost:8080/",
     "height": 265
    },
    "colab_type": "code",
    "id": "f_HBV1p6UL6_",
    "outputId": "4b3dc7d0-1dd7-4025-99d4-e892b6a68408"
   },
   "outputs": [
    {
     "data": {
      "image/png": "[encoded data removed]",
      "text/plain": [
       "<Figure size 432x288 with 1 Axes>"
      ]
     },
     "metadata": {},
     "output_type": "display_data"
    }
   ],
   "source": [
    "get_ipython().run_line_magic('matplotlib', 'inline')\n",
    "plt.imshow(X_train[np.random.randint(low=0, high=X_train.shape[0])], cmap=\"Greys\");"
   ]
  },
  {
   "cell_type": "markdown",
   "metadata": {},
   "source": [
    "# Reshaping Data"
   ]
  },
  {
   "cell_type": "code",
   "execution_count": 10,
   "metadata": {
    "colab": {
     "base_uri": "https://localhost:8080/",
     "height": 50
    },
    "colab_type": "code",
    "id": "AhH3Ze58Vadq",
    "outputId": "9801b188-5837-4424-de73-bc1fb3479ea7"
   },
   "outputs": [
    {
     "name": "stdout",
     "output_type": "stream",
     "text": [
      "X_train.shape: (50000, 784)\n",
      "X_Val.shape: (10000, 784)\n",
      "X_test.shape: (10000, 784)\n"
     ]
    }
   ],
   "source": [
    "#Flattening the image as a single Dense Layer or we can say 1-hot vector\n",
    "\n",
    "X_test = X_test.reshape((X_test.shape[0], 28*28))\n",
    "X_val = X_val.reshape((X_val.shape[0], 28*28))\n",
    "X_train = X_train.reshape((X_train.shape[0], 28*28))\n",
    "print(\"X_train.shape: \" + str(X_train.shape) + \"\\nX_Val.shape: \" + str(X_val.shape) +\"\\nX_test.shape: \" + str(X_test.shape))"
   ]
  },
  {
   "cell_type": "code",
   "execution_count": 11,
   "metadata": {
    "colab": {
     "base_uri": "https://localhost:8080/",
     "height": 50
    },
    "colab_type": "code",
    "id": "3il9-48nVh3W",
    "outputId": "69cb548b-9402-4013-8652-3845e7aed284"
   },
   "outputs": [
    {
     "name": "stdout",
     "output_type": "stream",
     "text": [
      "y_train.shape: (50000, 10)\n",
      "y_test.shape: (10000, 10)\n"
     ]
    }
   ],
   "source": [
    "#Creating one hot vector representation of y labels. It means 5 corosponds to [0, 0, 0, 0, 0, 1, 0, 0, 0, 0].\n",
    "\n",
    "y_train = np.eye(10)[y_train]\n",
    "y_val = np.eye(10)[y_val]\n",
    "y_test = np.eye(10)[y_test]\n",
    "print(\"y_train.shape: \" + str(y_train.shape) + \"\\ny_test.shape: \" + str(y_test.shape))"
   ]
  },
  {
   "cell_type": "markdown",
   "metadata": {},
   "source": [
    "# Placeholders"
   ]
  },
  {
   "cell_type": "code",
   "execution_count": 12,
   "metadata": {
    "colab": {},
    "colab_type": "code",
    "id": "dNWVoOKnVmCM"
   },
   "outputs": [],
   "source": [
    "#Creating Placholders for the input Values which will be fed during time of execution.\n",
    "\n",
    "X = tf.placeholder(dtype=tf.float32, shape=(None, 28*28), name=\"X\")\n",
    "Y = tf.placeholder(dtype=tf.float32, shape=(None, 10), name=\"Y\")\n",
    "keep_prob = tf.placeholder(dtype=tf.float32, shape=(1,), name=\"keep_prob\")"
   ]
  },
  {
   "cell_type": "markdown",
   "metadata": {},
   "source": [
    "# Parameters"
   ]
  },
  {
   "cell_type": "code",
   "execution_count": 13,
   "metadata": {
    "colab": {
     "base_uri": "https://localhost:8080/",
     "height": 205
    },
    "colab_type": "code",
    "id": "6E0DwP9uVqkG",
    "outputId": "1a2e85a7-42ba-46a8-856a-a41bd5dbf923"
   },
   "outputs": [
    {
     "name": "stdout",
     "output_type": "stream",
     "text": [
      "WARNING:tensorflow:\n",
      "The TensorFlow contrib module will not be included in TensorFlow 2.0.\n",
      "For more information, please see:\n",
      "  * https://github.com/tensorflow/community/blob/master/rfcs/20180907-contrib-sunset.md\n",
      "  * https://github.com/tensorflow/addons\n",
      "  * https://github.com/tensorflow/io (for I/O related ops)\n",
      "If you depend on functionality not listed there, please file an issue.\n",
      "\n"
     ]
    }
   ],
   "source": [
    "#Creating Variables that will take values through Training Dataset and learn according to that.\n",
    "\n",
    "layers_arch = np.array([784, 256, 10]) \n",
    "\n",
    "\"\"\"\n",
    "Each value in layer_arch represent the no of neurons in each layer. \n",
    "layers_arch = [\"Inputlayer\", \"1DeepLayer\", \"OutputLayer\"]\n",
    "\"\"\"\n",
    "\n",
    "W1 = tf.get_variable(name=\"W1\", \n",
    "                     shape=[layers_arch[0], layers_arch[1]], \n",
    "                     dtype=tf.float32, \n",
    "                     initializer=tf.contrib.layers.xavier_initializer())\n",
    "\n",
    "b1 = tf.get_variable(name=\"b1\", \n",
    "                     shape=[layers_arch[1]], \n",
    "                     dtype=tf.float32, \n",
    "                     initializer=tf.contrib.layers.xavier_initializer())\n",
    "\n",
    "W2 = tf.get_variable(name=\"W2\", \n",
    "                     shape=[layers_arch[1], layers_arch[2]], \n",
    "                     dtype=tf.float32, \n",
    "                     initializer=tf.contrib.layers.xavier_initializer())\n",
    "\n",
    "b2 = tf.get_variable(name=\"b2\", \n",
    "                     shape=[layers_arch[2]], \n",
    "                     dtype=tf.float32, \n",
    "                     initializer=tf.contrib.layers.xavier_initializer())"
   ]
  },
  {
   "cell_type": "markdown",
   "metadata": {},
   "source": [
    "# Model"
   ]
  },
  {
   "cell_type": "code",
   "execution_count": 15,
   "metadata": {
    "colab": {
     "base_uri": "https://localhost:8080/",
     "height": 67
    },
    "colab_type": "code",
    "id": "cavgKAsMV4II",
    "outputId": "24f7ab48-e83f-4599-968f-3815aa46edea"
   },
   "outputs": [],
   "source": [
    "#Introduce Non Linearity in the Neural Units to effectively capture the randomness of data.\n",
    "#Also Introduce dropout effect to reduce overfitting.\n",
    "\n",
    "Z1 = tf.matmul(X, W1) + b1\n",
    "A1 = tf.nn.relu(Z1)\n",
    "A1 = tf.nn.dropout(A1, keep_prob[0])\n",
    "\n",
    "Z2 = tf.matmul(A1, W2) + b2\n",
    "A2 = tf.nn.sigmoid(Z2)\n"
   ]
  },
  {
   "cell_type": "markdown",
   "metadata": {},
   "source": [
    "# Loss Function"
   ]
  },
  {
   "cell_type": "code",
   "execution_count": 17,
   "metadata": {
    "colab": {
     "base_uri": "https://localhost:8080/",
     "height": 171
    },
    "colab_type": "code",
    "id": "qR4R0MMaWV8H",
    "outputId": "0f5b364f-f1ef-4f6a-e155-17a337e76e8c"
   },
   "outputs": [],
   "source": [
    "#Loss Function with respect to which our model will learn  parameters.\n",
    "#loss = tf.reduce_mean(-tf.reduce_sum(input_y*tf.log(A3), reduction_indices=[1]))\n",
    "\n",
    "loss = tf.reduce_mean(tf.nn.softmax_cross_entropy_with_logits_v2(labels=Y, logits=A2))"
   ]
  },
  {
   "cell_type": "markdown",
   "metadata": {},
   "source": [
    "# Optimizer"
   ]
  },
  {
   "cell_type": "code",
   "execution_count": 18,
   "metadata": {
    "colab": {},
    "colab_type": "code",
    "id": "GECK-waZWaEf"
   },
   "outputs": [],
   "source": [
    "#Setting up Adam Optimizer to mimimize the cross entropy cost.\n",
    "#Adam because we don't have to care much oh learning rate here.\n",
    "\n",
    "optimiser = tf.train.AdamOptimizer().minimize(loss)"
   ]
  },
  {
   "cell_type": "code",
   "execution_count": 19,
   "metadata": {
    "colab": {},
    "colab_type": "code",
    "id": "nrW0a1POWeAP"
   },
   "outputs": [],
   "source": [
    "#Initialize all variables.\n",
    "\n",
    "init = tf.global_variables_initializer()"
   ]
  },
  {
   "cell_type": "markdown",
   "metadata": {},
   "source": [
    "# Training"
   ]
  },
  {
   "cell_type": "code",
   "execution_count": 20,
   "metadata": {
    "colab": {
     "base_uri": "https://localhost:8080/",
     "height": 218
    },
    "colab_type": "code",
    "id": "4pBLC5hQWo1S",
    "outputId": "c09861a6-8cba-4176-e0dd-2168888ae7e4"
   },
   "outputs": [
    {
     "name": "stdout",
     "output_type": "stream",
     "text": [
      "Test cost after 10 epoch: 1.4780570268630981\n",
      "Test cost after 20 epoch: 1.4711661338806152\n",
      "Test cost after 30 epoch: 1.4677443504333496\n",
      "Test cost after 40 epoch: 1.4668246507644653\n",
      "Test cost after 50 epoch: 1.4658496379852295\n",
      "Test cost after 60 epoch: 1.4655578136444092\n",
      "Test cost after 70 epoch: 1.4653419256210327\n",
      "Test cost after 80 epoch: 1.4649871587753296\n",
      "Test cost after 90 epoch: 1.464945673942566\n",
      "Test cost after 100 epoch: 1.4647325277328491\n",
      "Train Accuracy: 99.58400130271912\n",
      "Test Accuracy: 98.12999963760376\n"
     ]
    }
   ],
   "source": [
    "#Training and calculation of accuracy of the training on validation set.\n",
    "\n",
    "batch_size=100\n",
    "epochs = 100\n",
    "keep_prob_list = np.array([0.97])\n",
    "\n",
    "with tf.Session() as sess:\n",
    "    sess.run(init)\n",
    "    # Cache the cost at various steps to visualize the training and testing.\n",
    "    \n",
    "    train_costs = []\n",
    "    test_costs = []\n",
    "    \n",
    "    for epoch in range(epochs):\n",
    "        for i in range(0, X_train.shape[0], batch_size):\n",
    "            sess.run(optimiser, feed_dict={\n",
    "                                            X: X_train[i:i+batch_size],\n",
    "                                            Y: y_train[i:i+batch_size],\n",
    "                                            keep_prob: keep_prob_list\n",
    "                                          })\n",
    "            \n",
    "        train_costs.append(sess.run(loss, feed_dict={\n",
    "                                                      X: X_train,\n",
    "                                                      Y: y_train,\n",
    "                                                      keep_prob: keep_prob_list\n",
    "                                                    }))\n",
    "        \n",
    "        test_costs.append(sess.run(loss, feed_dict={\n",
    "                                                      X: X_val,\n",
    "                                                      Y: y_val,\n",
    "                                                      keep_prob: keep_prob_list\n",
    "                                                    }))\n",
    "        \n",
    "        #Print cost on every 10th iteration.\n",
    "        if epoch%10 == 9:\n",
    "            print(\"Test cost after {0} epoch: {1}\".format(epoch+1, train_costs[-1]))\n",
    "            \n",
    "    predict_op = tf.argmax(A2, 1)\n",
    "    correct_prediction = tf.equal(predict_op, tf.argmax(Y, 1))\n",
    "    accuracy = tf.reduce_mean(tf.cast(correct_prediction, tf.float32))\n",
    "    \n",
    "    train_accuracy = accuracy.eval({X: X_train, Y: y_train, keep_prob: keep_prob_list})\n",
    "    test_accuracy = accuracy.eval({X: X_test, Y: y_test, keep_prob: keep_prob_list})\n",
    "    \n",
    "    print(\"Train Accuracy:\", train_accuracy*100)\n",
    "    print(\"Test Accuracy:\", test_accuracy*100)\n"
   ]
  },
  {
   "cell_type": "markdown",
   "metadata": {},
   "source": [
    "# Visualization"
   ]
  },
  {
   "cell_type": "code",
   "execution_count": 21,
   "metadata": {
    "colab": {
     "base_uri": "https://localhost:8080/",
     "height": 279
    },
    "colab_type": "code",
    "id": "uBgZukeTXyzG",
    "outputId": "776930e5-3fe5-4514-da94-5f578db64649"
   },
   "outputs": [
    {
     "data": {
      "image/png": "[encoded data removed]",
      "text/plain": [
       "<Figure size 432x288 with 1 Axes>"
      ]
     },
     "metadata": {},
     "output_type": "display_data"
    }
   ],
   "source": [
    "#Training and Testing Visualization\n",
    "\n",
    "iteration = list(range(epochs))\n",
    "plt.plot(iteration, train_costs, label=\"Training\")\n",
    "plt.plot(iteration, test_costs, label=\"Testing\")\n",
    "plt.xlabel(\"Iterations\")\n",
    "plt.ylabel(\"Cost\")\n",
    "plt.legend()\n",
    "plt.show()"
   ]
  },
  {
   "cell_type": "code",
   "execution_count": null,
   "metadata": {},
   "outputs": [],
   "source": []
  }
 ],
 "metadata": {
  "accelerator": "TPU",
  "colab": {
   "name": "Tensorflow Lab 2",
   "provenance": [],
   "version": "0.3.2"
  },
  "kernelspec": {
   "display_name": "Python 3",
   "language": "python",
   "name": "python3"
  },
  "language_info": {
   "codemirror_mode": {
    "name": "ipython",
    "version": 3
   },
   "file_extension": ".py",
   "mimetype": "text/x-python",
   "name": "python",
   "nbconvert_exporter": "python",
   "pygments_lexer": "ipython3",
   "version": "3.6.6"
  }
 },
 "nbformat": 4,
 "nbformat_minor": 1
}
